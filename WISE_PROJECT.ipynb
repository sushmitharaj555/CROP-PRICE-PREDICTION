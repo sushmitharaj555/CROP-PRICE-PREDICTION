{
  "cells": [
    {
      "cell_type": "code",
      "execution_count": null,
      "metadata": {
        "id": "fQYeRCviIMJc"
      },
      "outputs": [],
      "source": [
        "import pandas as pd"
      ]
    },
    {
      "cell_type": "code",
      "execution_count": null,
      "metadata": {
        "colab": {
          "base_uri": "https://localhost:8080/"
        },
        "id": "4cBWYSpCuMWv",
        "outputId": "dd93db93-913a-4d0d-8c40-c474562e79dc"
      },
      "outputs": [
        {
          "name": "stdout",
          "output_type": "stream",
          "text": [
            "Drive already mounted at /content/drive; to attempt to forcibly remount, call drive.mount(\"/content/drive\", force_remount=True).\n"
          ]
        }
      ],
      "source": [
        "from google.colab import drive\n",
        "drive.mount('/content/drive')"
      ]
    },
    {
      "cell_type": "code",
      "execution_count": null,
      "metadata": {
        "id": "33MoQBUfuitm"
      },
      "outputs": [],
      "source": [
        "df = pd.read_csv('/content/drive/MyDrive/wise ml project/India Agriculture Crop Production.csv')"
      ]
    },
    {
      "cell_type": "code",
      "execution_count": null,
      "metadata": {
        "colab": {
          "base_uri": "https://localhost:8080/",
          "height": 206
        },
        "id": "4GQE8wtQu4Tt",
        "outputId": "d0f6cc66-ca69-4003-da50-7f8e95ea5bde"
      },
      "outputs": [
        {
          "data": {
            "text/html": [
              "\n",
              "  <div id=\"df-f9b7ea57-28ed-4560-b921-4cde54a7a30e\" class=\"colab-df-container\">\n",
              "    <div>\n",
              "<style scoped>\n",
              "    .dataframe tbody tr th:only-of-type {\n",
              "        vertical-align: middle;\n",
              "    }\n",
              "\n",
              "    .dataframe tbody tr th {\n",
              "        vertical-align: top;\n",
              "    }\n",
              "\n",
              "    .dataframe thead th {\n",
              "        text-align: right;\n",
              "    }\n",
              "</style>\n",
              "<table border=\"1\" class=\"dataframe\">\n",
              "  <thead>\n",
              "    <tr style=\"text-align: right;\">\n",
              "      <th></th>\n",
              "      <th>State</th>\n",
              "      <th>District</th>\n",
              "      <th>Crop</th>\n",
              "      <th>Year</th>\n",
              "      <th>Season</th>\n",
              "      <th>Area</th>\n",
              "      <th>Area Units</th>\n",
              "      <th>Production</th>\n",
              "      <th>Production Units</th>\n",
              "      <th>Yield</th>\n",
              "    </tr>\n",
              "  </thead>\n",
              "  <tbody>\n",
              "    <tr>\n",
              "      <th>0</th>\n",
              "      <td>Andaman and Nicobar Islands</td>\n",
              "      <td>NICOBARS</td>\n",
              "      <td>Arecanut</td>\n",
              "      <td>2001-02</td>\n",
              "      <td>Kharif</td>\n",
              "      <td>1254.0</td>\n",
              "      <td>Hectare</td>\n",
              "      <td>2061.0</td>\n",
              "      <td>Tonnes</td>\n",
              "      <td>1.643541</td>\n",
              "    </tr>\n",
              "    <tr>\n",
              "      <th>1</th>\n",
              "      <td>Andaman and Nicobar Islands</td>\n",
              "      <td>NICOBARS</td>\n",
              "      <td>Arecanut</td>\n",
              "      <td>2002-03</td>\n",
              "      <td>Whole Year</td>\n",
              "      <td>1258.0</td>\n",
              "      <td>Hectare</td>\n",
              "      <td>2083.0</td>\n",
              "      <td>Tonnes</td>\n",
              "      <td>1.655803</td>\n",
              "    </tr>\n",
              "    <tr>\n",
              "      <th>2</th>\n",
              "      <td>Andaman and Nicobar Islands</td>\n",
              "      <td>NICOBARS</td>\n",
              "      <td>Arecanut</td>\n",
              "      <td>2003-04</td>\n",
              "      <td>Whole Year</td>\n",
              "      <td>1261.0</td>\n",
              "      <td>Hectare</td>\n",
              "      <td>1525.0</td>\n",
              "      <td>Tonnes</td>\n",
              "      <td>1.209358</td>\n",
              "    </tr>\n",
              "    <tr>\n",
              "      <th>3</th>\n",
              "      <td>Andaman and Nicobar Islands</td>\n",
              "      <td>NORTH AND MIDDLE ANDAMAN</td>\n",
              "      <td>Arecanut</td>\n",
              "      <td>2001-02</td>\n",
              "      <td>Kharif</td>\n",
              "      <td>3100.0</td>\n",
              "      <td>Hectare</td>\n",
              "      <td>5239.0</td>\n",
              "      <td>Tonnes</td>\n",
              "      <td>1.690000</td>\n",
              "    </tr>\n",
              "    <tr>\n",
              "      <th>4</th>\n",
              "      <td>Andaman and Nicobar Islands</td>\n",
              "      <td>SOUTH ANDAMANS</td>\n",
              "      <td>Arecanut</td>\n",
              "      <td>2002-03</td>\n",
              "      <td>Whole Year</td>\n",
              "      <td>3105.0</td>\n",
              "      <td>Hectare</td>\n",
              "      <td>5267.0</td>\n",
              "      <td>Tonnes</td>\n",
              "      <td>1.696296</td>\n",
              "    </tr>\n",
              "  </tbody>\n",
              "</table>\n",
              "</div>\n",
              "    <div class=\"colab-df-buttons\">\n",
              "\n",
              "  <div class=\"colab-df-container\">\n",
              "    <button class=\"colab-df-convert\" onclick=\"convertToInteractive('df-f9b7ea57-28ed-4560-b921-4cde54a7a30e')\"\n",
              "            title=\"Convert this dataframe to an interactive table.\"\n",
              "            style=\"display:none;\">\n",
              "\n",
              "  <svg xmlns=\"http://www.w3.org/2000/svg\" height=\"24px\" viewBox=\"0 -960 960 960\">\n",
              "    <path d=\"M120-120v-720h720v720H120Zm60-500h600v-160H180v160Zm220 220h160v-160H400v160Zm0 220h160v-160H400v160ZM180-400h160v-160H180v160Zm440 0h160v-160H620v160ZM180-180h160v-160H180v160Zm440 0h160v-160H620v160Z\"/>\n",
              "  </svg>\n",
              "    </button>\n",
              "\n",
              "  <style>\n",
              "    .colab-df-container {\n",
              "      display:flex;\n",
              "      gap: 12px;\n",
              "    }\n",
              "\n",
              "    .colab-df-convert {\n",
              "      background-color: #E8F0FE;\n",
              "      border: none;\n",
              "      border-radius: 50%;\n",
              "      cursor: pointer;\n",
              "      display: none;\n",
              "      fill: #1967D2;\n",
              "      height: 32px;\n",
              "      padding: 0 0 0 0;\n",
              "      width: 32px;\n",
              "    }\n",
              "\n",
              "    .colab-df-convert:hover {\n",
              "      background-color: #E2EBFA;\n",
              "      box-shadow: 0px 1px 2px rgba(60, 64, 67, 0.3), 0px 1px 3px 1px rgba(60, 64, 67, 0.15);\n",
              "      fill: #174EA6;\n",
              "    }\n",
              "\n",
              "    .colab-df-buttons div {\n",
              "      margin-bottom: 4px;\n",
              "    }\n",
              "\n",
              "    [theme=dark] .colab-df-convert {\n",
              "      background-color: #3B4455;\n",
              "      fill: #D2E3FC;\n",
              "    }\n",
              "\n",
              "    [theme=dark] .colab-df-convert:hover {\n",
              "      background-color: #434B5C;\n",
              "      box-shadow: 0px 1px 3px 1px rgba(0, 0, 0, 0.15);\n",
              "      filter: drop-shadow(0px 1px 2px rgba(0, 0, 0, 0.3));\n",
              "      fill: #FFFFFF;\n",
              "    }\n",
              "  </style>\n",
              "\n",
              "    <script>\n",
              "      const buttonEl =\n",
              "        document.querySelector('#df-f9b7ea57-28ed-4560-b921-4cde54a7a30e button.colab-df-convert');\n",
              "      buttonEl.style.display =\n",
              "        google.colab.kernel.accessAllowed ? 'block' : 'none';\n",
              "\n",
              "      async function convertToInteractive(key) {\n",
              "        const element = document.querySelector('#df-f9b7ea57-28ed-4560-b921-4cde54a7a30e');\n",
              "        const dataTable =\n",
              "          await google.colab.kernel.invokeFunction('convertToInteractive',\n",
              "                                                    [key], {});\n",
              "        if (!dataTable) return;\n",
              "\n",
              "        const docLinkHtml = 'Like what you see? Visit the ' +\n",
              "          '<a target=\"_blank\" href=https://colab.research.google.com/notebooks/data_table.ipynb>data table notebook</a>'\n",
              "          + ' to learn more about interactive tables.';\n",
              "        element.innerHTML = '';\n",
              "        dataTable['output_type'] = 'display_data';\n",
              "        await google.colab.output.renderOutput(dataTable, element);\n",
              "        const docLink = document.createElement('div');\n",
              "        docLink.innerHTML = docLinkHtml;\n",
              "        element.appendChild(docLink);\n",
              "      }\n",
              "    </script>\n",
              "  </div>\n",
              "\n",
              "\n",
              "<div id=\"df-4dcd4322-b1ef-4792-8fcb-ddb4dd9ed2bf\">\n",
              "  <button class=\"colab-df-quickchart\" onclick=\"quickchart('df-4dcd4322-b1ef-4792-8fcb-ddb4dd9ed2bf')\"\n",
              "            title=\"Suggest charts\"\n",
              "            style=\"display:none;\">\n",
              "\n",
              "<svg xmlns=\"http://www.w3.org/2000/svg\" height=\"24px\"viewBox=\"0 0 24 24\"\n",
              "     width=\"24px\">\n",
              "    <g>\n",
              "        <path d=\"M19 3H5c-1.1 0-2 .9-2 2v14c0 1.1.9 2 2 2h14c1.1 0 2-.9 2-2V5c0-1.1-.9-2-2-2zM9 17H7v-7h2v7zm4 0h-2V7h2v10zm4 0h-2v-4h2v4z\"/>\n",
              "    </g>\n",
              "</svg>\n",
              "  </button>\n",
              "\n",
              "<style>\n",
              "  .colab-df-quickchart {\n",
              "      --bg-color: #E8F0FE;\n",
              "      --fill-color: #1967D2;\n",
              "      --hover-bg-color: #E2EBFA;\n",
              "      --hover-fill-color: #174EA6;\n",
              "      --disabled-fill-color: #AAA;\n",
              "      --disabled-bg-color: #DDD;\n",
              "  }\n",
              "\n",
              "  [theme=dark] .colab-df-quickchart {\n",
              "      --bg-color: #3B4455;\n",
              "      --fill-color: #D2E3FC;\n",
              "      --hover-bg-color: #434B5C;\n",
              "      --hover-fill-color: #FFFFFF;\n",
              "      --disabled-bg-color: #3B4455;\n",
              "      --disabled-fill-color: #666;\n",
              "  }\n",
              "\n",
              "  .colab-df-quickchart {\n",
              "    background-color: var(--bg-color);\n",
              "    border: none;\n",
              "    border-radius: 50%;\n",
              "    cursor: pointer;\n",
              "    display: none;\n",
              "    fill: var(--fill-color);\n",
              "    height: 32px;\n",
              "    padding: 0;\n",
              "    width: 32px;\n",
              "  }\n",
              "\n",
              "  .colab-df-quickchart:hover {\n",
              "    background-color: var(--hover-bg-color);\n",
              "    box-shadow: 0 1px 2px rgba(60, 64, 67, 0.3), 0 1px 3px 1px rgba(60, 64, 67, 0.15);\n",
              "    fill: var(--button-hover-fill-color);\n",
              "  }\n",
              "\n",
              "  .colab-df-quickchart-complete:disabled,\n",
              "  .colab-df-quickchart-complete:disabled:hover {\n",
              "    background-color: var(--disabled-bg-color);\n",
              "    fill: var(--disabled-fill-color);\n",
              "    box-shadow: none;\n",
              "  }\n",
              "\n",
              "  .colab-df-spinner {\n",
              "    border: 2px solid var(--fill-color);\n",
              "    border-color: transparent;\n",
              "    border-bottom-color: var(--fill-color);\n",
              "    animation:\n",
              "      spin 1s steps(1) infinite;\n",
              "  }\n",
              "\n",
              "  @keyframes spin {\n",
              "    0% {\n",
              "      border-color: transparent;\n",
              "      border-bottom-color: var(--fill-color);\n",
              "      border-left-color: var(--fill-color);\n",
              "    }\n",
              "    20% {\n",
              "      border-color: transparent;\n",
              "      border-left-color: var(--fill-color);\n",
              "      border-top-color: var(--fill-color);\n",
              "    }\n",
              "    30% {\n",
              "      border-color: transparent;\n",
              "      border-left-color: var(--fill-color);\n",
              "      border-top-color: var(--fill-color);\n",
              "      border-right-color: var(--fill-color);\n",
              "    }\n",
              "    40% {\n",
              "      border-color: transparent;\n",
              "      border-right-color: var(--fill-color);\n",
              "      border-top-color: var(--fill-color);\n",
              "    }\n",
              "    60% {\n",
              "      border-color: transparent;\n",
              "      border-right-color: var(--fill-color);\n",
              "    }\n",
              "    80% {\n",
              "      border-color: transparent;\n",
              "      border-right-color: var(--fill-color);\n",
              "      border-bottom-color: var(--fill-color);\n",
              "    }\n",
              "    90% {\n",
              "      border-color: transparent;\n",
              "      border-bottom-color: var(--fill-color);\n",
              "    }\n",
              "  }\n",
              "</style>\n",
              "\n",
              "  <script>\n",
              "    async function quickchart(key) {\n",
              "      const quickchartButtonEl =\n",
              "        document.querySelector('#' + key + ' button');\n",
              "      quickchartButtonEl.disabled = true;  // To prevent multiple clicks.\n",
              "      quickchartButtonEl.classList.add('colab-df-spinner');\n",
              "      try {\n",
              "        const charts = await google.colab.kernel.invokeFunction(\n",
              "            'suggestCharts', [key], {});\n",
              "      } catch (error) {\n",
              "        console.error('Error during call to suggestCharts:', error);\n",
              "      }\n",
              "      quickchartButtonEl.classList.remove('colab-df-spinner');\n",
              "      quickchartButtonEl.classList.add('colab-df-quickchart-complete');\n",
              "    }\n",
              "    (() => {\n",
              "      let quickchartButtonEl =\n",
              "        document.querySelector('#df-4dcd4322-b1ef-4792-8fcb-ddb4dd9ed2bf button');\n",
              "      quickchartButtonEl.style.display =\n",
              "        google.colab.kernel.accessAllowed ? 'block' : 'none';\n",
              "    })();\n",
              "  </script>\n",
              "</div>\n",
              "    </div>\n",
              "  </div>\n"
            ],
            "text/plain": [
              "                         State                  District      Crop     Year  \\\n",
              "0  Andaman and Nicobar Islands                  NICOBARS  Arecanut  2001-02   \n",
              "1  Andaman and Nicobar Islands                  NICOBARS  Arecanut  2002-03   \n",
              "2  Andaman and Nicobar Islands                  NICOBARS  Arecanut  2003-04   \n",
              "3  Andaman and Nicobar Islands  NORTH AND MIDDLE ANDAMAN  Arecanut  2001-02   \n",
              "4  Andaman and Nicobar Islands            SOUTH ANDAMANS  Arecanut  2002-03   \n",
              "\n",
              "       Season    Area Area Units  Production Production Units     Yield  \n",
              "0      Kharif  1254.0    Hectare      2061.0           Tonnes  1.643541  \n",
              "1  Whole Year  1258.0    Hectare      2083.0           Tonnes  1.655803  \n",
              "2  Whole Year  1261.0    Hectare      1525.0           Tonnes  1.209358  \n",
              "3      Kharif  3100.0    Hectare      5239.0           Tonnes  1.690000  \n",
              "4  Whole Year  3105.0    Hectare      5267.0           Tonnes  1.696296  "
            ]
          },
          "execution_count": 5,
          "metadata": {},
          "output_type": "execute_result"
        }
      ],
      "source": [
        "df.head()"
      ]
    },
    {
      "cell_type": "code",
      "execution_count": null,
      "metadata": {
        "colab": {
          "base_uri": "https://localhost:8080/"
        },
        "id": "1X_UWcpSxBmW",
        "outputId": "fc90b339-9767-4cc5-9a28-71af2d8f8e4b"
      },
      "outputs": [
        {
          "name": "stdout",
          "output_type": "stream",
          "text": [
            "                         State                  District      Crop     Year  \\\n",
            "0  Andaman and Nicobar Islands                  NICOBARS  Arecanut  2001-02   \n",
            "1  Andaman and Nicobar Islands                  NICOBARS  Arecanut  2002-03   \n",
            "2  Andaman and Nicobar Islands                  NICOBARS  Arecanut  2003-04   \n",
            "3  Andaman and Nicobar Islands  NORTH AND MIDDLE ANDAMAN  Arecanut  2001-02   \n",
            "4  Andaman and Nicobar Islands            SOUTH ANDAMANS  Arecanut  2002-03   \n",
            "\n",
            "       Season    Area Area Units  Production Production Units     Yield  \n",
            "0      Kharif  1254.0    Hectare      2061.0           Tonnes  1.643541  \n",
            "1  Whole Year  1258.0    Hectare      2083.0           Tonnes  1.655803  \n",
            "2  Whole Year  1261.0    Hectare      1525.0           Tonnes  1.209358  \n",
            "3      Kharif  3100.0    Hectare      5239.0           Tonnes  1.690000  \n",
            "4  Whole Year  3105.0    Hectare      5267.0           Tonnes  1.696296  \n"
          ]
        }
      ],
      "source": [
        "print(df.head())"
      ]
    },
    {
      "cell_type": "code",
      "execution_count": null,
      "metadata": {
        "colab": {
          "base_uri": "https://localhost:8080/"
        },
        "id": "DhoGwWIPu7Ki",
        "outputId": "5f934126-e084-4941-bea4-4d9ca0033018"
      },
      "outputs": [
        {
          "name": "stdout",
          "output_type": "stream",
          "text": [
            "          State     District Crop     Year Season  Area Area Units  \\\n",
            "345402  Manipur  IMPHAL WEST  NaN  2019-20   Rabi   NaN    Hectare   \n",
            "345403  Manipur     SENAPATI  NaN  2019-20   Rabi   NaN    Hectare   \n",
            "345404  Manipur   TAMENGLONG  NaN  2019-20   Rabi   NaN    Hectare   \n",
            "345405  Manipur      THOUBAL  NaN  2019-20   Rabi   NaN    Hectare   \n",
            "345406  Manipur       UKHRUL  NaN  2019-20   Rabi   NaN    Hectare   \n",
            "\n",
            "        Production Production Units  Yield  \n",
            "345402         NaN           Tonnes    NaN  \n",
            "345403         NaN           Tonnes    NaN  \n",
            "345404         NaN           Tonnes    NaN  \n",
            "345405         NaN           Tonnes    NaN  \n",
            "345406         NaN           Tonnes    NaN  \n"
          ]
        }
      ],
      "source": [
        "print(df.tail())"
      ]
    },
    {
      "cell_type": "code",
      "execution_count": null,
      "metadata": {
        "colab": {
          "base_uri": "https://localhost:8080/"
        },
        "id": "IFi6JmaqRQgu",
        "outputId": "7c59cc29-e86c-4ac2-c03a-60ef9e6905e5"
      },
      "outputs": [
        {
          "data": {
            "text/plain": [
              "Index(['State', 'District', 'Crop', 'Year', 'Season', 'Area', 'Area Units',\n",
              "       'Production', 'Production Units', 'Yield'],\n",
              "      dtype='object')"
            ]
          },
          "execution_count": 8,
          "metadata": {},
          "output_type": "execute_result"
        }
      ],
      "source": [
        "df.columns"
      ]
    },
    {
      "cell_type": "code",
      "execution_count": null,
      "metadata": {
        "colab": {
          "base_uri": "https://localhost:8080/"
        },
        "id": "DI_XHvFChGgj",
        "outputId": "f73de452-0699-4f8e-f5e4-a56ab7f49f9d"
      },
      "outputs": [
        {
          "name": "stdout",
          "output_type": "stream",
          "text": [
            "<class 'pandas.core.frame.DataFrame'>\n",
            "RangeIndex: 345407 entries, 0 to 345406\n",
            "Data columns (total 10 columns):\n",
            " #   Column            Non-Null Count   Dtype  \n",
            "---  ------            --------------   -----  \n",
            " 0   State             345407 non-null  object \n",
            " 1   District          345407 non-null  object \n",
            " 2   Crop              345375 non-null  object \n",
            " 3   Year              345407 non-null  object \n",
            " 4   Season            345406 non-null  object \n",
            " 5   Area              345374 non-null  float64\n",
            " 6   Area Units        345407 non-null  object \n",
            " 7   Production        340414 non-null  float64\n",
            " 8   Production Units  345407 non-null  object \n",
            " 9   Yield             345374 non-null  float64\n",
            "dtypes: float64(3), object(7)\n",
            "memory usage: 26.4+ MB\n",
            "None\n"
          ]
        }
      ],
      "source": [
        "print(df.info())"
      ]
    },
    {
      "cell_type": "code",
      "execution_count": null,
      "metadata": {
        "colab": {
          "base_uri": "https://localhost:8080/"
        },
        "id": "5DpZYpD4SIHr",
        "outputId": "c18cda31-8f11-4140-a1ce-f44d148e3c3c"
      },
      "outputs": [
        {
          "name": "stdout",
          "output_type": "stream",
          "text": [
            "               Area    Production          Yield\n",
            "count  3.453740e+05  3.404140e+05  345374.000000\n",
            "mean   1.167019e+04  9.583711e+05      79.407569\n",
            "std    4.583843e+04  2.152986e+07     916.628744\n",
            "min    4.000000e-03  0.000000e+00       0.000000\n",
            "25%    7.400000e+01  8.700000e+01       0.546742\n",
            "50%    5.320000e+02  7.170000e+02       1.000000\n",
            "75%    4.110000e+03  7.176000e+03       2.467080\n",
            "max    8.580100e+06  1.597800e+09   43958.333333\n"
          ]
        }
      ],
      "source": [
        "print(df.describe())"
      ]
    },
    {
      "cell_type": "code",
      "execution_count": null,
      "metadata": {
        "colab": {
          "base_uri": "https://localhost:8080/"
        },
        "id": "53GXuRLuvH6B",
        "outputId": "738bcab6-7584-48f1-94e4-96b4731531da"
      },
      "outputs": [
        {
          "name": "stdout",
          "output_type": "stream",
          "text": [
            "State                  0\n",
            "District               0\n",
            "Crop                  32\n",
            "Year                   0\n",
            "Season                 1\n",
            "Area                  33\n",
            "Area Units             0\n",
            "Production          4993\n",
            "Production Units       0\n",
            "Yield                 33\n",
            "dtype: int64\n"
          ]
        }
      ],
      "source": [
        "print(df.isnull().sum())"
      ]
    },
    {
      "cell_type": "code",
      "execution_count": null,
      "metadata": {
        "id": "8MEIPw68znGL"
      },
      "outputs": [],
      "source": [
        "df['Area'].fillna(df['Area'].mean(), inplace=True)\n",
        "df['Yield'].fillna(df['Yield'].mean(), inplace=True)\n",
        "df['Crop'].fillna(df['Yield'].mean(), inplace=True)\n",
        "df['Production'].fillna(df['Production'].mean(), inplace=True)\n",
        "df['Season'].fillna(df['Season'].mode()[0], inplace=True)"
      ]
    },
    {
      "cell_type": "code",
      "execution_count": null,
      "metadata": {
        "colab": {
          "base_uri": "https://localhost:8080/"
        },
        "id": "NjM-ypba1N5M",
        "outputId": "8fdb184c-cc7a-4d1d-9ad6-42bb1962230e"
      },
      "outputs": [
        {
          "name": "stdout",
          "output_type": "stream",
          "text": [
            "State               0\n",
            "District            0\n",
            "Crop                0\n",
            "Year                0\n",
            "Season              0\n",
            "Area                0\n",
            "Area Units          0\n",
            "Production          0\n",
            "Production Units    0\n",
            "Yield               0\n",
            "dtype: int64\n"
          ]
        }
      ],
      "source": [
        "print(df.isnull().sum())"
      ]
    },
    {
      "cell_type": "markdown",
      "source": [
        "is your col normally distributed or not"
      ],
      "metadata": {
        "id": "QI7j13brwPym"
      }
    },
    {
      "cell_type": "markdown",
      "source": [
        "1.Identifying the outliers"
      ],
      "metadata": {
        "id": "Rv02q3_Dx9y8"
      }
    },
    {
      "cell_type": "code",
      "source": [],
      "metadata": {
        "id": "JADU_kBU4-_H"
      },
      "execution_count": null,
      "outputs": []
    }
  ],
  "metadata": {
    "colab": {
      "provenance": []
    },
    "kernelspec": {
      "display_name": "Python 3",
      "name": "python3"
    },
    "language_info": {
      "name": "python"
    }
  },
  "nbformat": 4,
  "nbformat_minor": 0
}